{
 "cells": [
  {
   "cell_type": "markdown",
   "metadata": {},
   "source": [
    "# Pré-Processamento Textual \n",
    "## Expressões Regulares\n",
    "\n",
    "<p>As expressões regulares são sequências de caracteres que definem um padrão de busca em texto. Elas são amplamente utilizadas para realizar operações de busca, substituição e validação de padrões em strings. As expressões regulares são compostas por metacaracteres, que representam classes de caracteres, quantificadores, âncoras e outros elementos que permitem definir padrões complexos. Elas são uma ferramenta poderosa para manipulação e análise de texto em diversas áreas, como processamento de linguagem natural, extração de informações e validação de dados.</p>"
   ]
  },
  {
   "cell_type": "markdown",
   "metadata": {},
   "source": [
    "<p>\n",
    "Podemos usar expressões regulares para retirar URLs, endereços de e-mail, nomes que aparecem em todos ou quase todos os textos da coleção e prejudicam a classificação automática (nomes como: réu, promotor, juiz) que aparecem em toda à coleção jurídica.\n",
    "– Localizar marcas de tempo (semana, mês, hora) que podem está escritas de diversas maneiras (3 horas, três horas, 3:00Hs, 3h, 3:00:00)\n",
    "– Localizar palavras que se iniciam ou terminam com determinado padrão, por exemplo, crim* (criminoso, criminalística, crime, etc.)\n",
    "– Entre várias outras aplicações\n",
    "\n",
    "Logo, se estivermos localizando agendamento de audiências em meio a vários documentos, poderíamos usar expressões regulares para localizar datas (escritas de diversas maneiras) para pré-seleção dos documentos, e posteriormente encontrar outros padrões que o caracterizem os documentos referentes à audiência jurídica por exemplo: ganharíamos tempo com esse preprocessamento por data e padrões de texto.\n",
    "</p>"
   ]
  },
  {
   "cell_type": "markdown",
   "metadata": {},
   "source": [
    "## Atividade de expressão regulares\n"
   ]
  },
  {
   "cell_type": "markdown",
   "metadata": {},
   "source": [
    "| Pergunta | Expressão Regular |\n",
    "| --- | --- |\n",
    "| <span style=\"color: yellow;\">1. Qual é a expressão regular que busca todas as vogais minúsculas?</span> | <span style=\"color: yellow;\">`[aeiou]`</span> |\n",
    "| <span style=\"color: yellow;\">2. Qual é a expressão regular (ou regex, em inglês) que busca a substring 'Casa'?</span> | <span style=\"color: yellow;\">`Casa`</span> |\n",
    "| <span style=\"color: yellow;\">3. Qual é a expressão regular que busca as vogais minúsculas ou dígitos?</span> | <span style=\"color: yellow;\">`[aeiou]\\|[0-9]`</span> |\n",
    "| <span style=\"color: yellow;\">4. Qual é a expressão regular que busca letra minúscula ou dígito no fim da string?</span> | <span style=\"color: yellow;\">`[a-z]\\|[0-9]$`</span> |\n",
    "| <span style=\"color: yellow;\">5. Qual é a expressão regular que busca vogais minúsculas precedidas de 'c' ou 's'?</span> | <span style=\"color: yellow;\">`(c\\|s)[aeiou]`</span> |\n",
    "| <span style=\"color: yellow;\">6. Qual é a expressão regular que busca substrings que começam com 'c', têm um caractere qualquer e terminam com um 's'?</span> | <span style=\"color: yellow;\">`c.s`</span> |\n",
    "| <span style=\"color: yellow;\">7. Qual é a expressão regular que busca substrings que começam com 'c', têm sequência de uma ou mais vogais minúsculas e não seguem com um dígito?</span> | <span style=\"color: yellow;\">`c[aeiou]+[^0-9]`</span> |\n"
   ]
  },
  {
   "cell_type": "markdown",
   "metadata": {},
   "source": []
  },
  {
   "cell_type": "markdown",
   "metadata": {},
   "source": [
    "> Functions for re\n",
    "> public symbols\n",
    "    - \"match\", \n",
    "    - \"fullmatch\", \n",
    "    - \"search\", \n",
    "    - \"sub\", \n",
    "    - \"subn\", \n",
    "    - \"split\",\n",
    "    - \"findall\", \n",
    "    - \"finditer\", \n",
    "    - \"compile\", \n",
    "    - \"purge\", \n",
    "    - \"template\", \n",
    "    - \"escape\",\n",
    "    - \"error\", \n",
    "    - \"Pattern\", \n",
    "    - \"Match\", \n",
    "    - \"A\", \"I\", \"L\", \"M\", \"S\", \"X\", \"U\",\n",
    "    - \"ASCII\", \n",
    "    - \"IGNORECASE\", \n",
    "    - \"LOCALE\", \n",
    "    - \"MULTILINE\", \n",
    "    - \"DOTALL\", \n",
    "    - \"VERBOSE\",\n",
    "    - \"UNICODE\", \n",
    "    - \"NOFLAG\", \n",
    "    - \"RegexFlag\",\n"
   ]
  },
  {
   "cell_type": "markdown",
   "metadata": {},
   "source": [
    "![image-re.png](./assets/table-re.png)"
   ]
  },
  {
   "cell_type": "code",
   "execution_count": 127,
   "metadata": {},
   "outputs": [],
   "source": [
    "# Libraries and imports\n",
    "import re\n",
    "\n",
    "frase = \"casamento 25\""
   ]
  },
  {
   "cell_type": "code",
   "execution_count": 128,
   "metadata": {},
   "outputs": [],
   "source": [
    "# Funções\n",
    "\n",
    "# FUNCTION FINDALL\n",
    "def findAll(regex, frase):\n",
    "  p = re.compile(regex)\n",
    "  mm = p.finditer(frase)\n",
    "  if mm:\n",
    "      for m in mm:\n",
    "          print('Casou!', m.group())\n",
    "          print(m.start())\n",
    "          print(m.end())\n",
    "          print('Posição na string:', m.span())\n",
    "  else:\n",
    "      print(\"Não encontrado\")\n",
    "\n",
    "# FUNCTION FINDITER\n",
    "def findIter(regex, frase):\n",
    "  p = re.compile(regex)\n",
    "  mm = p.finditer(frase)\n",
    "  if mm:\n",
    "    for m in mm:\n",
    "        print('Casou!', m.group())\n",
    "        print('Posição na string:', m.span())\n",
    "  else:\n",
    "      print(\"Palavra não encontrada\")\n",
    "\n",
    "# FUNCTION SEARCH\n",
    "def search(regex, frase):\n",
    "    p = re.compile(regex)\n",
    "    m = p.search(frase)\n",
    "    if m:\n",
    "      print('Casou!', m.group())\n",
    "      print(m.start())\n",
    "      print(m.end())\n",
    "      print('Posição na string:', m.span())\n",
    "    else:\n",
    "      print(\"Palavra não encontrada\")"
   ]
  },
  {
   "cell_type": "code",
   "execution_count": 130,
   "metadata": {},
   "outputs": [
    {
     "name": "stdout",
     "output_type": "stream",
     "text": [
      "Casou! a\n",
      "1\n",
      "2\n",
      "Posição na string: (1, 2)\n",
      "Casou! a\n",
      "3\n",
      "4\n",
      "Posição na string: (3, 4)\n",
      "Casou! e\n",
      "5\n",
      "6\n",
      "Posição na string: (5, 6)\n",
      "Casou! o\n",
      "8\n",
      "9\n",
      "Posição na string: (8, 9)\n"
     ]
    }
   ],
   "source": [
    "# QUESTÃO 1\n",
    "findAll(regex='[aeiou]', frase=frase)"
   ]
  },
  {
   "cell_type": "code",
   "execution_count": 108,
   "metadata": {},
   "outputs": [
    {
     "name": "stdout",
     "output_type": "stream",
     "text": [
      "Casou! a\n",
      "Posição na string: (1, 2)\n",
      "Casou! a\n",
      "Posição na string: (3, 4)\n",
      "Casou! e\n",
      "Posição na string: (5, 6)\n",
      "Casou! o\n",
      "Posição na string: (8, 9)\n",
      "Casou! 2\n",
      "Posição na string: (10, 11)\n",
      "Casou! 5\n",
      "Posição na string: (11, 12)\n"
     ]
    }
   ],
   "source": [
    "# QUESTÃO 2\n",
    "findIter(regex=r'[aeiou]|[0-9]', frase=frase)"
   ]
  },
  {
   "cell_type": "code",
   "execution_count": 101,
   "metadata": {},
   "outputs": [
    {
     "name": "stdout",
     "output_type": "stream",
     "text": [
      "Casou! casa\n",
      "0\n",
      "4\n",
      "Posição na string: (0, 4)\n"
     ]
    }
   ],
   "source": [
    "# QUESTÃO 3\n",
    "search(regex='[Cc]asa', frase=frase)"
   ]
  },
  {
   "cell_type": "code",
   "execution_count": 102,
   "metadata": {},
   "outputs": [
    {
     "name": "stdout",
     "output_type": "stream",
     "text": [
      "Casou! a\n",
      "1\n",
      "2\n",
      "Posição na string: (1, 2)\n",
      "Casou! a\n",
      "3\n",
      "4\n",
      "Posição na string: (3, 4)\n",
      "Casou! e\n",
      "5\n",
      "6\n",
      "Posição na string: (5, 6)\n",
      "Casou! o\n",
      "8\n",
      "9\n",
      "Posição na string: (8, 9)\n",
      "Casou! 2\n",
      "10\n",
      "11\n",
      "Posição na string: (10, 11)\n",
      "Casou! 5\n",
      "11\n",
      "12\n",
      "Posição na string: (11, 12)\n"
     ]
    }
   ],
   "source": [
    "# QUESTÃO 4\n",
    "findAll(regex=r'[aeiou]|[0-9]', frase=frase)"
   ]
  },
  {
   "cell_type": "code",
   "execution_count": 104,
   "metadata": {},
   "outputs": [
    {
     "name": "stdout",
     "output_type": "stream",
     "text": [
      "Casou! c\n",
      "Posição na string: (0, 1)\n",
      "Casou! a\n",
      "Posição na string: (1, 2)\n",
      "Casou! s\n",
      "Posição na string: (2, 3)\n",
      "Casou! a\n",
      "Posição na string: (3, 4)\n",
      "Casou! m\n",
      "Posição na string: (4, 5)\n",
      "Casou! e\n",
      "Posição na string: (5, 6)\n",
      "Casou! n\n",
      "Posição na string: (6, 7)\n",
      "Casou! t\n",
      "Posição na string: (7, 8)\n",
      "Casou! o\n",
      "Posição na string: (8, 9)\n",
      "Casou! 5\n",
      "Posição na string: (11, 12)\n"
     ]
    }
   ],
   "source": [
    "# QUESTÃO 5\n",
    "findIter(regex=r'[a-z]|[0-9]$', frase=frase)"
   ]
  },
  {
   "cell_type": "code",
   "execution_count": 112,
   "metadata": {},
   "outputs": [
    {
     "name": "stdout",
     "output_type": "stream",
     "text": [
      "Casou! cas\n",
      "0\n",
      "3\n",
      "Posição na string: (0, 3)\n",
      "Casou! casa\n",
      "0\n",
      "4\n",
      "Posição na string: (0, 4)\n"
     ]
    }
   ],
   "source": [
    "# QUESTÃO 6\n",
    "search(regex='c.s', frase=frase)\n",
    "search(regex='c.s.', frase=frase)"
   ]
  },
  {
   "cell_type": "code",
   "execution_count": 116,
   "metadata": {},
   "outputs": [
    {
     "name": "stdout",
     "output_type": "stream",
     "text": [
      "Casou! cas\n",
      "0\n",
      "3\n",
      "Posição na string: (0, 3)\n"
     ]
    }
   ],
   "source": [
    "# QUESTÃO 7\n",
    "search(regex='c[aeiou]+[^0-9]', frase=frase)"
   ]
  }
 ],
 "metadata": {
  "kernelspec": {
   "display_name": "ufg",
   "language": "python",
   "name": "python3"
  },
  "language_info": {
   "codemirror_mode": {
    "name": "ipython",
    "version": 3
   },
   "file_extension": ".py",
   "mimetype": "text/x-python",
   "name": "python",
   "nbconvert_exporter": "python",
   "pygments_lexer": "ipython3",
   "version": "3.12.3"
  }
 },
 "nbformat": 4,
 "nbformat_minor": 2
}
