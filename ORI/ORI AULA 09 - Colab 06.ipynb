{
  "nbformat": 4,
  "nbformat_minor": 0,
  "metadata": {
    "colab": {
      "provenance": []
    },
    "kernelspec": {
      "name": "python3",
      "display_name": "Python 3"
    },
    "language_info": {
      "name": "python"
    }
  },
  "cells": [
    {
      "cell_type": "markdown",
      "source": [
        "# Parte 2 - Pré-processamento de dados"
      ],
      "metadata": {
        "id": "mzcEImXpwhAG"
      }
    },
    {
      "cell_type": "markdown",
      "source": [
        "## Expressões regulares\n"
      ],
      "metadata": {
        "id": "Sr2e5YuBwrBt"
      }
    },
    {
      "cell_type": "markdown",
      "source": [
        "A palavra latina corpus (daí o plural corpora), ‘conjunto’, é a denominação empregada pelos linguistas para denominar ‘conjunto de dados linguísticos’, sejam dados orais ou escritos.\n",
        "\n",
        "O CORPUS (NO PLURAL, CORPORA)"
      ],
      "metadata": {
        "id": "ioDhxSJi2tYL"
      }
    },
    {
      "cell_type": "markdown",
      "source": [],
      "metadata": {
        "id": "hbz1tK-n3Dpb"
      }
    },
    {
      "cell_type": "markdown",
      "source": [
        "![RluC3.png](https://miro.medium.com/v2/resize:fit:1400/1*x4cvN7eIKV7UiPXdYldhVg.jpeg)"
      ],
      "metadata": {
        "id": "3T-LcZQa62vw"
      }
    },
    {
      "cell_type": "markdown",
      "source": [
        "# Exercícios"
      ],
      "metadata": {
        "id": "WraGsGfa694A"
      }
    },
    {
      "cell_type": "markdown",
      "source": [
        "1. Dado o texto \"A velha contrabandista\", faça as seguintes operações de pré-processamento textual com funções vistas para processar strings (não precisa usar er nesse exercício, veja os slides de aulas anteriores):\n",
        "\n",
        "* A. Carregue o arquivo texto do seu drive para uma string\n",
        "* B. Substitua quebras de linha e tabulações por um espaço na string\n",
        "* C. Retire espaços duplicados, triplicados ou quadriplicados da string\n",
        "* D. Coloque tudo na string em letras minúsculas para facilitar o processamento\n",
        "* E. Quebre a string e coloque numa lista, imprima a lista para que possa ver se todas as substrings da lista estão sem espaços em branco laterais, se tiver retire-os e gere a string novamente. Outros caracteres além da palavra (pontuações ou dígitos) podem existir num elemento da lista.\n",
        "\n",
        "2. Localize os seguintes padrões na string criada anteriormente com expressões regulares (deve usar er), veja os slides da aula 08:\n",
        "\n",
        "* 2.1. Guarde numa lista as substrings de um dígito (lembre-se que existem comandos específicos, para gerar lista de substrings, que casam com os padrões da er).\n",
        "* 2.2 Guarde numa lista todas as substrings que começam com 'lamb' seguida de zero ou mais caracteres alfanuméricos; ou string que é dígito isolado; ou as duas coisas\n",
        "* 2.3 Guarde numa lista todas as substrings que começam com 'l' têm em seguida zero ou mais letras quaisquer e são seguidas de um 'a'\n",
        "* 2.4 Informe todas as ocorrências de 'lambreta' e suas localizações\n",
        "* 2.5 Informe todas as ocorrências de 'velha' seguida de espaço e suas localizações\n",
        "* 2.6 Informe todas as ocorrências da substring 'fiscal' seguida de nenhuma ou qualquer sequência alfabética e suas localizações\n",
        "* 2.7 Informe todas as preposições 'de' com as substrings alfabéticas (incluindo um espaço) completas antes e depois do padrão 'de', caso não exista nada antes ou depois do padrão 'de' não exiba. Informe a lista com essas composições e a janela de ocorrência de cada composição(span). O objetivo deste exercício é localizar e armazenar todas as ocorrências de expressões multipalavras que contenham a preposição \"de\" entre duas palavras: \"casa de madeira\", \"cobertor de lã\", etc..."
      ],
      "metadata": {
        "id": "uwx7_57z6jGw"
      }
    },
    {
      "cell_type": "code",
      "source": [
        "# Bibliotecas\n",
        "from google.colab import files\n",
        "import re\n",
        "import os"
      ],
      "metadata": {
        "id": "bpXjNnDm9fNV"
      },
      "execution_count": 1,
      "outputs": []
    },
    {
      "cell_type": "code",
      "source": [
        "# Subir aqui para o arquivos do colab\n",
        "uploaded = files.upload()\n",
        "\n",
        "for arquivo in uploaded.keys():\n",
        "  print('Arquivo\"{name}\" e tamanho {length} bytes'.format(\n",
        "      name=arquivo, length=len(uploaded[arquivo])))"
      ],
      "metadata": {
        "colab": {
          "base_uri": "https://localhost:8080/",
          "height": 90
        },
        "id": "gUYPCG669DVD",
        "outputId": "5a4e69f5-84e9-4a49-d478-6b33c0fe9dd4"
      },
      "execution_count": 2,
      "outputs": [
        {
          "output_type": "display_data",
          "data": {
            "text/plain": [
              "<IPython.core.display.HTML object>"
            ],
            "text/html": [
              "\n",
              "     <input type=\"file\" id=\"files-7666732a-9bc3-4ece-8e73-7bbd60d563ed\" name=\"files[]\" multiple disabled\n",
              "        style=\"border:none\" />\n",
              "     <output id=\"result-7666732a-9bc3-4ece-8e73-7bbd60d563ed\">\n",
              "      Upload widget is only available when the cell has been executed in the\n",
              "      current browser session. Please rerun this cell to enable.\n",
              "      </output>\n",
              "      <script>// Copyright 2017 Google LLC\n",
              "//\n",
              "// Licensed under the Apache License, Version 2.0 (the \"License\");\n",
              "// you may not use this file except in compliance with the License.\n",
              "// You may obtain a copy of the License at\n",
              "//\n",
              "//      http://www.apache.org/licenses/LICENSE-2.0\n",
              "//\n",
              "// Unless required by applicable law or agreed to in writing, software\n",
              "// distributed under the License is distributed on an \"AS IS\" BASIS,\n",
              "// WITHOUT WARRANTIES OR CONDITIONS OF ANY KIND, either express or implied.\n",
              "// See the License for the specific language governing permissions and\n",
              "// limitations under the License.\n",
              "\n",
              "/**\n",
              " * @fileoverview Helpers for google.colab Python module.\n",
              " */\n",
              "(function(scope) {\n",
              "function span(text, styleAttributes = {}) {\n",
              "  const element = document.createElement('span');\n",
              "  element.textContent = text;\n",
              "  for (const key of Object.keys(styleAttributes)) {\n",
              "    element.style[key] = styleAttributes[key];\n",
              "  }\n",
              "  return element;\n",
              "}\n",
              "\n",
              "// Max number of bytes which will be uploaded at a time.\n",
              "const MAX_PAYLOAD_SIZE = 100 * 1024;\n",
              "\n",
              "function _uploadFiles(inputId, outputId) {\n",
              "  const steps = uploadFilesStep(inputId, outputId);\n",
              "  const outputElement = document.getElementById(outputId);\n",
              "  // Cache steps on the outputElement to make it available for the next call\n",
              "  // to uploadFilesContinue from Python.\n",
              "  outputElement.steps = steps;\n",
              "\n",
              "  return _uploadFilesContinue(outputId);\n",
              "}\n",
              "\n",
              "// This is roughly an async generator (not supported in the browser yet),\n",
              "// where there are multiple asynchronous steps and the Python side is going\n",
              "// to poll for completion of each step.\n",
              "// This uses a Promise to block the python side on completion of each step,\n",
              "// then passes the result of the previous step as the input to the next step.\n",
              "function _uploadFilesContinue(outputId) {\n",
              "  const outputElement = document.getElementById(outputId);\n",
              "  const steps = outputElement.steps;\n",
              "\n",
              "  const next = steps.next(outputElement.lastPromiseValue);\n",
              "  return Promise.resolve(next.value.promise).then((value) => {\n",
              "    // Cache the last promise value to make it available to the next\n",
              "    // step of the generator.\n",
              "    outputElement.lastPromiseValue = value;\n",
              "    return next.value.response;\n",
              "  });\n",
              "}\n",
              "\n",
              "/**\n",
              " * Generator function which is called between each async step of the upload\n",
              " * process.\n",
              " * @param {string} inputId Element ID of the input file picker element.\n",
              " * @param {string} outputId Element ID of the output display.\n",
              " * @return {!Iterable<!Object>} Iterable of next steps.\n",
              " */\n",
              "function* uploadFilesStep(inputId, outputId) {\n",
              "  const inputElement = document.getElementById(inputId);\n",
              "  inputElement.disabled = false;\n",
              "\n",
              "  const outputElement = document.getElementById(outputId);\n",
              "  outputElement.innerHTML = '';\n",
              "\n",
              "  const pickedPromise = new Promise((resolve) => {\n",
              "    inputElement.addEventListener('change', (e) => {\n",
              "      resolve(e.target.files);\n",
              "    });\n",
              "  });\n",
              "\n",
              "  const cancel = document.createElement('button');\n",
              "  inputElement.parentElement.appendChild(cancel);\n",
              "  cancel.textContent = 'Cancel upload';\n",
              "  const cancelPromise = new Promise((resolve) => {\n",
              "    cancel.onclick = () => {\n",
              "      resolve(null);\n",
              "    };\n",
              "  });\n",
              "\n",
              "  // Wait for the user to pick the files.\n",
              "  const files = yield {\n",
              "    promise: Promise.race([pickedPromise, cancelPromise]),\n",
              "    response: {\n",
              "      action: 'starting',\n",
              "    }\n",
              "  };\n",
              "\n",
              "  cancel.remove();\n",
              "\n",
              "  // Disable the input element since further picks are not allowed.\n",
              "  inputElement.disabled = true;\n",
              "\n",
              "  if (!files) {\n",
              "    return {\n",
              "      response: {\n",
              "        action: 'complete',\n",
              "      }\n",
              "    };\n",
              "  }\n",
              "\n",
              "  for (const file of files) {\n",
              "    const li = document.createElement('li');\n",
              "    li.append(span(file.name, {fontWeight: 'bold'}));\n",
              "    li.append(span(\n",
              "        `(${file.type || 'n/a'}) - ${file.size} bytes, ` +\n",
              "        `last modified: ${\n",
              "            file.lastModifiedDate ? file.lastModifiedDate.toLocaleDateString() :\n",
              "                                    'n/a'} - `));\n",
              "    const percent = span('0% done');\n",
              "    li.appendChild(percent);\n",
              "\n",
              "    outputElement.appendChild(li);\n",
              "\n",
              "    const fileDataPromise = new Promise((resolve) => {\n",
              "      const reader = new FileReader();\n",
              "      reader.onload = (e) => {\n",
              "        resolve(e.target.result);\n",
              "      };\n",
              "      reader.readAsArrayBuffer(file);\n",
              "    });\n",
              "    // Wait for the data to be ready.\n",
              "    let fileData = yield {\n",
              "      promise: fileDataPromise,\n",
              "      response: {\n",
              "        action: 'continue',\n",
              "      }\n",
              "    };\n",
              "\n",
              "    // Use a chunked sending to avoid message size limits. See b/62115660.\n",
              "    let position = 0;\n",
              "    do {\n",
              "      const length = Math.min(fileData.byteLength - position, MAX_PAYLOAD_SIZE);\n",
              "      const chunk = new Uint8Array(fileData, position, length);\n",
              "      position += length;\n",
              "\n",
              "      const base64 = btoa(String.fromCharCode.apply(null, chunk));\n",
              "      yield {\n",
              "        response: {\n",
              "          action: 'append',\n",
              "          file: file.name,\n",
              "          data: base64,\n",
              "        },\n",
              "      };\n",
              "\n",
              "      let percentDone = fileData.byteLength === 0 ?\n",
              "          100 :\n",
              "          Math.round((position / fileData.byteLength) * 100);\n",
              "      percent.textContent = `${percentDone}% done`;\n",
              "\n",
              "    } while (position < fileData.byteLength);\n",
              "  }\n",
              "\n",
              "  // All done.\n",
              "  yield {\n",
              "    response: {\n",
              "      action: 'complete',\n",
              "    }\n",
              "  };\n",
              "}\n",
              "\n",
              "scope.google = scope.google || {};\n",
              "scope.google.colab = scope.google.colab || {};\n",
              "scope.google.colab._files = {\n",
              "  _uploadFiles,\n",
              "  _uploadFilesContinue,\n",
              "};\n",
              "})(self);\n",
              "</script> "
            ]
          },
          "metadata": {}
        },
        {
          "output_type": "stream",
          "name": "stdout",
          "text": [
            "Saving A_Velha_Contrabandista.txt to A_Velha_Contrabandista.txt\n",
            "Arquivo\"A_Velha_Contrabandista.txt\" e tamanho 2108 bytes\n"
          ]
        }
      ]
    },
    {
      "cell_type": "code",
      "source": [
        "# RESPOSTA 1.A\n",
        "\n",
        "path = '/content/A_Velha_Contrabandista.txt'\n",
        "\n",
        "with open(path, 'rt') as text:\n",
        "  texto = text.read()\n"
      ],
      "metadata": {
        "id": "7Hp9MgfA78wS"
      },
      "execution_count": 3,
      "outputs": []
    },
    {
      "cell_type": "code",
      "source": [
        "print(texto)"
      ],
      "metadata": {
        "colab": {
          "base_uri": "https://localhost:8080/"
        },
        "id": "UZSPmKFj8107",
        "outputId": "20c866c1-8ef2-404d-b4ce-58f9dfe15db6"
      },
      "execution_count": 4,
      "outputs": [
        {
          "output_type": "stream",
          "name": "stdout",
          "text": [
            "A Velha Contrabandista \n",
            "\n",
            "Diz que era uma velhinha que sabia andar de lambreta. Todo dia ela passava pela fronteira montada na\n",
            "lambreta, com um bruto saco atrás da lambreta. O pessoal da Alfândega - tudo malandro velho - começou\n",
            "desconfiar da velhinha. \n",
            "Um dia, quando ela vinha na lambreta com o saco atrás, o fiscal da Alfândega mandou ela parar. A velhinha\n",
            "parou e então o fiscal perguntou assim pra ela:\n",
            " - Escuta aqui, vovozinha, a senhora passa por aqui todo dia, com esse saco aí atrás. Que diabo a senhora\n",
            "leva nesse saco?\n",
            " A velhinha sorriu com os poucos dentes que lhe restavam e mais outros, que ela adquirira no odontólogo,\n",
            "e respondeu:\n",
            "- É areia!\n",
            "Aí quem sorriu foi o fiscal. Achou que não era areia nenhuma e mandou a velhinha saltar da lambreta para\n",
            "examinar o saco. A velhinha saltou, o fiscal esvaziou o saco e dentro só tinha areia. Muito encabulado, ordenou\n",
            "à velhinha que fosse em frente. Ela montou na lambreta e foi embora, com o saco de areia atrás.\n",
            "Mas o fiscal desconfiado ainda. Talvez a velhinha passasse um dia com areia e no outro com muamba,\n",
            "dentro daquele maldito saco. No dia seguinte, quando ela passou na lambreta com o saco atrás, o fiscal mandou\n",
            "parar outra vez. Perguntou o que é que ela levava no saco e ela respondeu que era areia, uai! O fiscal examinou\n",
            "e era mesmo. Durante um mês seguido o fiscal interceptou a velhinha e, todas as vezes, o que ela levava no\n",
            "saco era areia.\n",
            "Diz que foi aí que o fiscal se chateou:\n",
            "- Olha, vovozinha, eu sou fiscal de alfândega com 40 anos de serviço. Manjo essa coisa de contrabando\n",
            "pra burro. Ninguém me tira da cabeça que a senhora é contrabandista.\n",
            " - Mas no saco só tem areia! - insistiu a velhinha. E já ia tocar a lambreta, quando o fiscal propôs.\n",
            " - Eu prometo à senhora que deixo a senhora passar. Não dou parte, não apreendo, não conto nada a ninguém,\n",
            "mas a senhora vai me dizer: qual é o contrabando que a senhora está passando por aqui todos os dias?\n",
            " - O senhor promete que não \"espáia\"? - quis saber a velhinha\n",
            " - Juro - respondeu o fiscal.\n",
            " - É lambreta.\n"
          ]
        }
      ]
    },
    {
      "cell_type": "code",
      "source": [
        "# RESPOSTA 1.B\n",
        "\n",
        "texto_tratado_fase1 = re.sub(r'[\\n\\t]', ' ', texto)\n",
        "\n",
        "print(texto_tratado_fase1)"
      ],
      "metadata": {
        "colab": {
          "base_uri": "https://localhost:8080/"
        },
        "id": "rno1vJxq9mV0",
        "outputId": "add15136-fa31-46f2-9f67-e345be4246fa"
      },
      "execution_count": 5,
      "outputs": [
        {
          "output_type": "stream",
          "name": "stdout",
          "text": [
            "A Velha Contrabandista   Diz que era uma velhinha que sabia andar de lambreta. Todo dia ela passava pela fronteira montada na lambreta, com um bruto saco atrás da lambreta. O pessoal da Alfândega - tudo malandro velho - começou desconfiar da velhinha.  Um dia, quando ela vinha na lambreta com o saco atrás, o fiscal da Alfândega mandou ela parar. A velhinha parou e então o fiscal perguntou assim pra ela:  - Escuta aqui, vovozinha, a senhora passa por aqui todo dia, com esse saco aí atrás. Que diabo a senhora leva nesse saco?  A velhinha sorriu com os poucos dentes que lhe restavam e mais outros, que ela adquirira no odontólogo, e respondeu: - É areia! Aí quem sorriu foi o fiscal. Achou que não era areia nenhuma e mandou a velhinha saltar da lambreta para examinar o saco. A velhinha saltou, o fiscal esvaziou o saco e dentro só tinha areia. Muito encabulado, ordenou à velhinha que fosse em frente. Ela montou na lambreta e foi embora, com o saco de areia atrás. Mas o fiscal desconfiado ainda. Talvez a velhinha passasse um dia com areia e no outro com muamba, dentro daquele maldito saco. No dia seguinte, quando ela passou na lambreta com o saco atrás, o fiscal mandou parar outra vez. Perguntou o que é que ela levava no saco e ela respondeu que era areia, uai! O fiscal examinou e era mesmo. Durante um mês seguido o fiscal interceptou a velhinha e, todas as vezes, o que ela levava no saco era areia. Diz que foi aí que o fiscal se chateou: - Olha, vovozinha, eu sou fiscal de alfândega com 40 anos de serviço. Manjo essa coisa de contrabando pra burro. Ninguém me tira da cabeça que a senhora é contrabandista.  - Mas no saco só tem areia! - insistiu a velhinha. E já ia tocar a lambreta, quando o fiscal propôs.  - Eu prometo à senhora que deixo a senhora passar. Não dou parte, não apreendo, não conto nada a ninguém, mas a senhora vai me dizer: qual é o contrabando que a senhora está passando por aqui todos os dias?  - O senhor promete que não \"espáia\"? - quis saber a velhinha  - Juro - respondeu o fiscal.  - É lambreta.\n"
          ]
        }
      ]
    },
    {
      "cell_type": "code",
      "source": [
        "# REPOSTA 1.C\n",
        "\n",
        "texto_tratado_fase2 = re.sub(r'\\s+', ' ', texto_tratado_fase1)\n",
        "\n",
        "print(texto_tratado_fase2)"
      ],
      "metadata": {
        "colab": {
          "base_uri": "https://localhost:8080/"
        },
        "id": "XhrQ9tlP7vcE",
        "outputId": "a3fe3311-4993-40a5-8f0b-566902e4250c"
      },
      "execution_count": 6,
      "outputs": [
        {
          "output_type": "stream",
          "name": "stdout",
          "text": [
            "A Velha Contrabandista Diz que era uma velhinha que sabia andar de lambreta. Todo dia ela passava pela fronteira montada na lambreta, com um bruto saco atrás da lambreta. O pessoal da Alfândega - tudo malandro velho - começou desconfiar da velhinha. Um dia, quando ela vinha na lambreta com o saco atrás, o fiscal da Alfândega mandou ela parar. A velhinha parou e então o fiscal perguntou assim pra ela: - Escuta aqui, vovozinha, a senhora passa por aqui todo dia, com esse saco aí atrás. Que diabo a senhora leva nesse saco? A velhinha sorriu com os poucos dentes que lhe restavam e mais outros, que ela adquirira no odontólogo, e respondeu: - É areia! Aí quem sorriu foi o fiscal. Achou que não era areia nenhuma e mandou a velhinha saltar da lambreta para examinar o saco. A velhinha saltou, o fiscal esvaziou o saco e dentro só tinha areia. Muito encabulado, ordenou à velhinha que fosse em frente. Ela montou na lambreta e foi embora, com o saco de areia atrás. Mas o fiscal desconfiado ainda. Talvez a velhinha passasse um dia com areia e no outro com muamba, dentro daquele maldito saco. No dia seguinte, quando ela passou na lambreta com o saco atrás, o fiscal mandou parar outra vez. Perguntou o que é que ela levava no saco e ela respondeu que era areia, uai! O fiscal examinou e era mesmo. Durante um mês seguido o fiscal interceptou a velhinha e, todas as vezes, o que ela levava no saco era areia. Diz que foi aí que o fiscal se chateou: - Olha, vovozinha, eu sou fiscal de alfândega com 40 anos de serviço. Manjo essa coisa de contrabando pra burro. Ninguém me tira da cabeça que a senhora é contrabandista. - Mas no saco só tem areia! - insistiu a velhinha. E já ia tocar a lambreta, quando o fiscal propôs. - Eu prometo à senhora que deixo a senhora passar. Não dou parte, não apreendo, não conto nada a ninguém, mas a senhora vai me dizer: qual é o contrabando que a senhora está passando por aqui todos os dias? - O senhor promete que não \"espáia\"? - quis saber a velhinha - Juro - respondeu o fiscal. - É lambreta.\n"
          ]
        }
      ]
    },
    {
      "cell_type": "code",
      "source": [
        "# REPOSTA 1.D\n",
        "\n",
        "texto_tratado_fase3 = texto_tratado_fase2.lower()\n",
        "\n",
        "print(texto_tratado_fase3)"
      ],
      "metadata": {
        "colab": {
          "base_uri": "https://localhost:8080/"
        },
        "id": "OC4j822GFcNq",
        "outputId": "3b81641a-01dc-4792-9895-6d5232412e4d"
      },
      "execution_count": 7,
      "outputs": [
        {
          "output_type": "stream",
          "name": "stdout",
          "text": [
            "a velha contrabandista diz que era uma velhinha que sabia andar de lambreta. todo dia ela passava pela fronteira montada na lambreta, com um bruto saco atrás da lambreta. o pessoal da alfândega - tudo malandro velho - começou desconfiar da velhinha. um dia, quando ela vinha na lambreta com o saco atrás, o fiscal da alfândega mandou ela parar. a velhinha parou e então o fiscal perguntou assim pra ela: - escuta aqui, vovozinha, a senhora passa por aqui todo dia, com esse saco aí atrás. que diabo a senhora leva nesse saco? a velhinha sorriu com os poucos dentes que lhe restavam e mais outros, que ela adquirira no odontólogo, e respondeu: - é areia! aí quem sorriu foi o fiscal. achou que não era areia nenhuma e mandou a velhinha saltar da lambreta para examinar o saco. a velhinha saltou, o fiscal esvaziou o saco e dentro só tinha areia. muito encabulado, ordenou à velhinha que fosse em frente. ela montou na lambreta e foi embora, com o saco de areia atrás. mas o fiscal desconfiado ainda. talvez a velhinha passasse um dia com areia e no outro com muamba, dentro daquele maldito saco. no dia seguinte, quando ela passou na lambreta com o saco atrás, o fiscal mandou parar outra vez. perguntou o que é que ela levava no saco e ela respondeu que era areia, uai! o fiscal examinou e era mesmo. durante um mês seguido o fiscal interceptou a velhinha e, todas as vezes, o que ela levava no saco era areia. diz que foi aí que o fiscal se chateou: - olha, vovozinha, eu sou fiscal de alfândega com 40 anos de serviço. manjo essa coisa de contrabando pra burro. ninguém me tira da cabeça que a senhora é contrabandista. - mas no saco só tem areia! - insistiu a velhinha. e já ia tocar a lambreta, quando o fiscal propôs. - eu prometo à senhora que deixo a senhora passar. não dou parte, não apreendo, não conto nada a ninguém, mas a senhora vai me dizer: qual é o contrabando que a senhora está passando por aqui todos os dias? - o senhor promete que não \"espáia\"? - quis saber a velhinha - juro - respondeu o fiscal. - é lambreta.\n"
          ]
        }
      ]
    },
    {
      "cell_type": "code",
      "source": [
        "# REPOSTA 1.E\n",
        "\n",
        "lista_texto = []\n",
        "\n",
        "for palavra in texto_tratado_fase3.split():\n",
        "    lista_texto.append(palavra.strip())\n",
        "\n",
        "print(lista_texto)\n",
        "string_prod = ' '.join(lista_texto)\n",
        "print()\n",
        "print(string_prod)"
      ],
      "metadata": {
        "colab": {
          "base_uri": "https://localhost:8080/"
        },
        "id": "gZUuDbg_FgAy",
        "outputId": "29c13ee9-6bd6-4668-fd1f-3b8935f97b40"
      },
      "execution_count": 14,
      "outputs": [
        {
          "output_type": "stream",
          "name": "stdout",
          "text": [
            "['a', 'velha', 'contrabandista', 'diz', 'que', 'era', 'uma', 'velhinha', 'que', 'sabia', 'andar', 'de', 'lambreta.', 'todo', 'dia', 'ela', 'passava', 'pela', 'fronteira', 'montada', 'na', 'lambreta,', 'com', 'um', 'bruto', 'saco', 'atrás', 'da', 'lambreta.', 'o', 'pessoal', 'da', 'alfândega', '-', 'tudo', 'malandro', 'velho', '-', 'começou', 'desconfiar', 'da', 'velhinha.', 'um', 'dia,', 'quando', 'ela', 'vinha', 'na', 'lambreta', 'com', 'o', 'saco', 'atrás,', 'o', 'fiscal', 'da', 'alfândega', 'mandou', 'ela', 'parar.', 'a', 'velhinha', 'parou', 'e', 'então', 'o', 'fiscal', 'perguntou', 'assim', 'pra', 'ela:', '-', 'escuta', 'aqui,', 'vovozinha,', 'a', 'senhora', 'passa', 'por', 'aqui', 'todo', 'dia,', 'com', 'esse', 'saco', 'aí', 'atrás.', 'que', 'diabo', 'a', 'senhora', 'leva', 'nesse', 'saco?', 'a', 'velhinha', 'sorriu', 'com', 'os', 'poucos', 'dentes', 'que', 'lhe', 'restavam', 'e', 'mais', 'outros,', 'que', 'ela', 'adquirira', 'no', 'odontólogo,', 'e', 'respondeu:', '-', 'é', 'areia!', 'aí', 'quem', 'sorriu', 'foi', 'o', 'fiscal.', 'achou', 'que', 'não', 'era', 'areia', 'nenhuma', 'e', 'mandou', 'a', 'velhinha', 'saltar', 'da', 'lambreta', 'para', 'examinar', 'o', 'saco.', 'a', 'velhinha', 'saltou,', 'o', 'fiscal', 'esvaziou', 'o', 'saco', 'e', 'dentro', 'só', 'tinha', 'areia.', 'muito', 'encabulado,', 'ordenou', 'à', 'velhinha', 'que', 'fosse', 'em', 'frente.', 'ela', 'montou', 'na', 'lambreta', 'e', 'foi', 'embora,', 'com', 'o', 'saco', 'de', 'areia', 'atrás.', 'mas', 'o', 'fiscal', 'desconfiado', 'ainda.', 'talvez', 'a', 'velhinha', 'passasse', 'um', 'dia', 'com', 'areia', 'e', 'no', 'outro', 'com', 'muamba,', 'dentro', 'daquele', 'maldito', 'saco.', 'no', 'dia', 'seguinte,', 'quando', 'ela', 'passou', 'na', 'lambreta', 'com', 'o', 'saco', 'atrás,', 'o', 'fiscal', 'mandou', 'parar', 'outra', 'vez.', 'perguntou', 'o', 'que', 'é', 'que', 'ela', 'levava', 'no', 'saco', 'e', 'ela', 'respondeu', 'que', 'era', 'areia,', 'uai!', 'o', 'fiscal', 'examinou', 'e', 'era', 'mesmo.', 'durante', 'um', 'mês', 'seguido', 'o', 'fiscal', 'interceptou', 'a', 'velhinha', 'e,', 'todas', 'as', 'vezes,', 'o', 'que', 'ela', 'levava', 'no', 'saco', 'era', 'areia.', 'diz', 'que', 'foi', 'aí', 'que', 'o', 'fiscal', 'se', 'chateou:', '-', 'olha,', 'vovozinha,', 'eu', 'sou', 'fiscal', 'de', 'alfândega', 'com', '40', 'anos', 'de', 'serviço.', 'manjo', 'essa', 'coisa', 'de', 'contrabando', 'pra', 'burro.', 'ninguém', 'me', 'tira', 'da', 'cabeça', 'que', 'a', 'senhora', 'é', 'contrabandista.', '-', 'mas', 'no', 'saco', 'só', 'tem', 'areia!', '-', 'insistiu', 'a', 'velhinha.', 'e', 'já', 'ia', 'tocar', 'a', 'lambreta,', 'quando', 'o', 'fiscal', 'propôs.', '-', 'eu', 'prometo', 'à', 'senhora', 'que', 'deixo', 'a', 'senhora', 'passar.', 'não', 'dou', 'parte,', 'não', 'apreendo,', 'não', 'conto', 'nada', 'a', 'ninguém,', 'mas', 'a', 'senhora', 'vai', 'me', 'dizer:', 'qual', 'é', 'o', 'contrabando', 'que', 'a', 'senhora', 'está', 'passando', 'por', 'aqui', 'todos', 'os', 'dias?', '-', 'o', 'senhor', 'promete', 'que', 'não', '\"espáia\"?', '-', 'quis', 'saber', 'a', 'velhinha', '-', 'juro', '-', 'respondeu', 'o', 'fiscal.', '-', 'é', 'lambreta.']\n",
            "\n",
            "a velha contrabandista diz que era uma velhinha que sabia andar de lambreta. todo dia ela passava pela fronteira montada na lambreta, com um bruto saco atrás da lambreta. o pessoal da alfândega - tudo malandro velho - começou desconfiar da velhinha. um dia, quando ela vinha na lambreta com o saco atrás, o fiscal da alfândega mandou ela parar. a velhinha parou e então o fiscal perguntou assim pra ela: - escuta aqui, vovozinha, a senhora passa por aqui todo dia, com esse saco aí atrás. que diabo a senhora leva nesse saco? a velhinha sorriu com os poucos dentes que lhe restavam e mais outros, que ela adquirira no odontólogo, e respondeu: - é areia! aí quem sorriu foi o fiscal. achou que não era areia nenhuma e mandou a velhinha saltar da lambreta para examinar o saco. a velhinha saltou, o fiscal esvaziou o saco e dentro só tinha areia. muito encabulado, ordenou à velhinha que fosse em frente. ela montou na lambreta e foi embora, com o saco de areia atrás. mas o fiscal desconfiado ainda. talvez a velhinha passasse um dia com areia e no outro com muamba, dentro daquele maldito saco. no dia seguinte, quando ela passou na lambreta com o saco atrás, o fiscal mandou parar outra vez. perguntou o que é que ela levava no saco e ela respondeu que era areia, uai! o fiscal examinou e era mesmo. durante um mês seguido o fiscal interceptou a velhinha e, todas as vezes, o que ela levava no saco era areia. diz que foi aí que o fiscal se chateou: - olha, vovozinha, eu sou fiscal de alfândega com 40 anos de serviço. manjo essa coisa de contrabando pra burro. ninguém me tira da cabeça que a senhora é contrabandista. - mas no saco só tem areia! - insistiu a velhinha. e já ia tocar a lambreta, quando o fiscal propôs. - eu prometo à senhora que deixo a senhora passar. não dou parte, não apreendo, não conto nada a ninguém, mas a senhora vai me dizer: qual é o contrabando que a senhora está passando por aqui todos os dias? - o senhor promete que não \"espáia\"? - quis saber a velhinha - juro - respondeu o fiscal. - é lambreta.\n"
          ]
        }
      ]
    },
    {
      "cell_type": "markdown",
      "source": [
        "2.1. Guarde numa lista as substrings de um dígito (lembre-se que existem comandos específicos, para gerar lista de substrings, que casam com os padrões da er)."
      ],
      "metadata": {
        "id": "sRoiqAfthVhG"
      }
    },
    {
      "cell_type": "code",
      "source": [
        "# QUESTÃO 2\n",
        "## REPOSTA 2.1\n",
        "\n",
        "digitos = re.findall(r'\\d+', string_prod)\n",
        "texto_digito_separado = re.findall('[0-9]', string_prod)\n",
        "\n",
        "print(digitos)\n",
        "print()\n",
        "print(texto_digito_separado)"
      ],
      "metadata": {
        "colab": {
          "base_uri": "https://localhost:8080/"
        },
        "id": "ydGIibt8FqWj",
        "outputId": "2bf409c1-af52-458b-c4f4-ab1985966e71"
      },
      "execution_count": 48,
      "outputs": [
        {
          "output_type": "stream",
          "name": "stdout",
          "text": [
            "['40']\n",
            "\n",
            "['4', '0']\n"
          ]
        }
      ]
    },
    {
      "cell_type": "markdown",
      "source": [
        "2.2 Guarde numa lista todas as substrings que começam com 'lamb' seguida de zero ou mais caracteres alfanuméricos; ou string que é dígito isolado; ou as duas coisas"
      ],
      "metadata": {
        "id": "kLVDNI-AGNnv"
      }
    },
    {
      "cell_type": "code",
      "source": [
        "## REPOSTA 2.2\n",
        "\n",
        "p = re.compile('lamb([a-zA-Z0-9]*|\\d)')\n",
        "mm = p.finditer(string_prod)\n",
        "\n",
        "lista = []\n",
        "\n",
        "for match in mm:\n",
        "    lista.append(match.group(0))\n",
        "\n",
        "print(lista)"
      ],
      "metadata": {
        "colab": {
          "base_uri": "https://localhost:8080/"
        },
        "id": "8pIp9kbzGCf9",
        "outputId": "c7875529-783e-4700-c374-aaa42f082233"
      },
      "execution_count": 74,
      "outputs": [
        {
          "output_type": "stream",
          "name": "stdout",
          "text": [
            "['lambreta', 'lambreta', 'lambreta', 'lambreta', 'lambreta', 'lambreta', 'lambreta', 'lambreta', 'lambreta']\n"
          ]
        }
      ]
    },
    {
      "cell_type": "markdown",
      "source": [
        "2.3 Guarde numa lista todas as substrings que começam com 'l' têm em seguida zero ou mais letras quaisquer e são seguidas de um 'a'"
      ],
      "metadata": {
        "id": "yfRAfuz6J2dp"
      }
    },
    {
      "cell_type": "code",
      "source": [
        "## REPOSTA 2.3\n",
        "\n",
        "p = re.compile('l[a-zA-Z]*a')\n",
        "mm = p.finditer(string_prod)\n",
        "\n",
        "lista = []\n",
        "\n",
        "for match in mm:\n",
        "    lista.append(match.group(0))\n",
        "\n",
        "print(lista)"
      ],
      "metadata": {
        "colab": {
          "base_uri": "https://localhost:8080/"
        },
        "id": "XAtvdAh6JwVZ",
        "outputId": "b5f6bdb7-70ab-42dc-96bb-40f1a2377c6d"
      },
      "execution_count": 75,
      "outputs": [
        {
          "output_type": "stream",
          "name": "stdout",
          "text": [
            "['lha', 'lhinha', 'lambreta', 'la', 'la', 'lambreta', 'lambreta', 'la', 'lhinha', 'la', 'lambreta', 'la', 'lhinha', 'la', 'leva', 'lhinha', 'la', 'lhinha', 'lta', 'lambreta', 'lhinha', 'la', 'lhinha', 'la', 'lambreta', 'lhinha', 'la', 'lambreta', 'la', 'levava', 'la', 'lhinha', 'la', 'levava', 'lha', 'lhinha', 'lambreta', 'lhinha', 'lambreta']\n"
          ]
        }
      ]
    },
    {
      "cell_type": "markdown",
      "source": [
        "2.4 Informe todas as ocorrências de 'lambreta' e suas localizações"
      ],
      "metadata": {
        "id": "r2dhgcCwLS-g"
      }
    },
    {
      "cell_type": "code",
      "source": [
        "# REPOSTA 2.4\n",
        "\n",
        "p = re.compile('lambreta')\n",
        "mm = p.finditer(string_prod)\n",
        "\n",
        "lista = []\n",
        "\n",
        "for match in mm:\n",
        "    lista.append([match.group(0), match.span()])\n",
        "\n",
        "\n",
        "print(lista)"
      ],
      "metadata": {
        "colab": {
          "base_uri": "https://localhost:8080/"
        },
        "id": "jRMeivudLMLQ",
        "outputId": "d116d726-ba52-405f-8a53-7670e67e29eb"
      },
      "execution_count": 71,
      "outputs": [
        {
          "output_type": "stream",
          "name": "stdout",
          "text": [
            "[['lambreta', (67, 75)], ['lambreta', (124, 132)], ['lambreta', (161, 169)], ['lambreta', (278, 286)], ['lambreta', (745, 753)], ['lambreta', (917, 925)], ['lambreta', (1133, 1141)], ['lambreta', (1689, 1697)], ['lambreta', (2024, 2032)]]\n"
          ]
        }
      ]
    },
    {
      "cell_type": "markdown",
      "source": [
        "2.5 Informe todas as ocorrências de 'velha' seguida de espaço e suas localizações"
      ],
      "metadata": {
        "id": "ZAgIwa6rL2e7"
      }
    },
    {
      "cell_type": "code",
      "source": [
        "# REPOSTA 2.5\n",
        "\n",
        "p = re.compile('velha\\s')\n",
        "mm = p.finditer(string_prod)\n",
        "\n",
        "lista = []\n",
        "\n",
        "for match in mm:\n",
        "    lista.append([match.group(0), match.span()])\n",
        "\n",
        "\n",
        "print(lista)"
      ],
      "metadata": {
        "colab": {
          "base_uri": "https://localhost:8080/"
        },
        "id": "DZVAtjIXLyZ8",
        "outputId": "2d7a290e-6292-46d0-9b65-7decc4c65a62"
      },
      "execution_count": 79,
      "outputs": [
        {
          "output_type": "stream",
          "name": "stdout",
          "text": [
            "[['velha ', (2, 8)]]\n"
          ]
        }
      ]
    },
    {
      "cell_type": "markdown",
      "source": [
        "2.6 Informe todas as ocorrências da substring 'fiscal' seguida de nenhuma ou qualquer sequência alfabética e suas localizações"
      ],
      "metadata": {
        "id": "xFkMD4fvMnun"
      }
    },
    {
      "cell_type": "code",
      "source": [
        "# REPOSTA 2.6\n",
        "\n",
        "p = re.compile('fiscal[a-zA-Z]*')\n",
        "mm = p.finditer(string_prod)\n",
        "\n",
        "lista = []\n",
        "\n",
        "for match in mm:\n",
        "    lista.append([match.group(0), match.span()])\n",
        "\n",
        "\n",
        "print(lista)"
      ],
      "metadata": {
        "colab": {
          "base_uri": "https://localhost:8080/"
        },
        "id": "0hBYEWR8MnUQ",
        "outputId": "df779070-68f5-47a1-c593-21fa164ca776"
      },
      "execution_count": 81,
      "outputs": [
        {
          "output_type": "stream",
          "name": "stdout",
          "text": [
            "[['fiscal', (307, 313)], ['fiscal', (372, 378)], ['fiscal', (675, 681)], ['fiscal', (797, 803)], ['fiscal', (973, 979)], ['fiscal', (1162, 1168)], ['fiscal', (1272, 1278)], ['fiscal', (1326, 1332)], ['fiscal', (1432, 1438)], ['fiscal', (1477, 1483)], ['fiscal', (1708, 1714)], ['fiscal', (2012, 2018)]]\n"
          ]
        }
      ]
    },
    {
      "cell_type": "markdown",
      "source": [
        "2.7 Informe todas as preposições 'de' com as substrings alfabéticas (incluindo um espaço) completas antes e depois do padrão 'de', caso não exista nada antes ou depois do padrão 'de' não exiba. Informe a lista com essas composições e a janela de ocorrência de cada composição(span). O objetivo deste exercício é localizar e armazenar todas as ocorrências de expressões multipalavras que contenham a preposição \"de\" entre duas palavras: \"casa de madeira\", \"cobertor de lã\", etc..."
      ],
      "metadata": {
        "id": "zJJSuzt9Naor"
      }
    },
    {
      "cell_type": "code",
      "source": [
        "# REPOSTA 2.7\n",
        "\n",
        "p = re.compile('([a-zA-Z]+)\\sde\\s([a-zA-Z]+)')\n",
        "mm = p.finditer(string_prod)\n",
        "\n",
        "lista = []\n",
        "\n",
        "for match in mm:\n",
        "    lista.append([match.group(0), match.span()])\n",
        "\n",
        "\n",
        "print(lista)"
      ],
      "metadata": {
        "colab": {
          "base_uri": "https://localhost:8080/"
        },
        "id": "7FXRV7OoNaBr",
        "outputId": "f2e77345-9636-4d5f-a13b-3f507fa1e812"
      },
      "execution_count": 86,
      "outputs": [
        {
          "output_type": "stream",
          "name": "stdout",
          "text": [
            "[['andar de lambreta', (58, 75)], ['saco de areia', (946, 959)], ['fiscal de alf', (1477, 1490)], ['anos de servi', (1504, 1517)], ['coisa de contrabando', (1532, 1552)]]\n"
          ]
        }
      ]
    }
  ]
}