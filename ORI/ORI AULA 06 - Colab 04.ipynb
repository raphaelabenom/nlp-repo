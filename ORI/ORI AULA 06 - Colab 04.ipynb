{
 "cells": [
  {
   "cell_type": "markdown",
   "metadata": {
    "id": "ieJMHkCLmwh4"
   },
   "source": [
    "# Conteúdo - Aula 6\n",
    "- Manipulação de Arquivos\n",
    "- Manipulação de Dicionários, Lista e Conjuntos\n",
    "- Ordenação de Lista, Vetores e Dicionários\n",
    "- Vetores e Matrizes\n",
    "- Uso de casos de Sets, Sort(), Sorted"
   ]
  },
  {
   "cell_type": "markdown",
   "metadata": {
    "id": "rYw65C8soR_g"
   },
   "source": [
    "# Exercícios 01 - Slides Exemplos"
   ]
  },
  {
   "cell_type": "code",
   "execution_count": null,
   "metadata": {
    "colab": {
     "base_uri": "https://localhost:8080/"
    },
    "executionInfo": {
     "elapsed": 270,
     "status": "ok",
     "timestamp": 1714826944901,
     "user": {
      "displayName": "RAPHAEL ABENOM DOS SANTOS SILVA",
      "userId": "08522055848715752754"
     },
     "user_tz": 180
    },
    "id": "NnlbyI6eoWSJ",
    "outputId": "2d5373a0-12aa-4084-f077-4bd3e39b4f72"
   },
   "outputs": [],
   "source": [
    "cliente = {\n",
    "    \"Nome\":'Fulano',\n",
    "    \"Endereço\":'Rua das flores',\n",
    "    \"Contato\":'(62) 9 9999-9999'\n",
    "}\n",
    "\n",
    "# ADICIONAR CHAVE E VALOR AO DICIONÁRIO\n",
    "cliente['Idade'] = 36\n",
    "cliente['CPF'] = \"000000000000\"\n",
    "\n",
    "print(cliente['Nome'])\n",
    "print(cliente['Endereço'])\n",
    "print(cliente['Contato'])\n",
    "print(\"\\n\")\n",
    "print(cliente)\n",
    "print(\"\\n\")\n",
    "\n",
    "for i, y in cliente.items():\n",
    "    print(i, y)"
   ]
  },
  {
   "cell_type": "code",
   "execution_count": null,
   "metadata": {
    "colab": {
     "base_uri": "https://localhost:8080/"
    },
    "executionInfo": {
     "elapsed": 284,
     "status": "ok",
     "timestamp": 1714826971136,
     "user": {
      "displayName": "RAPHAEL ABENOM DOS SANTOS SILVA",
      "userId": "08522055848715752754"
     },
     "user_tz": 180
    },
    "id": "T13FAk-NowA_",
    "outputId": "d0ee3165-1403-4c9e-95ec-bcf6d983dd86"
   },
   "outputs": [],
   "source": [
    "# REMOVER ITEM DO DICIONÁRIO\n",
    "cliente_copy = cliente.copy()\n",
    "\n",
    "del cliente_copy['CPF']\n",
    "\n",
    "print(cliente_copy)"
   ]
  },
  {
   "cell_type": "code",
   "execution_count": null,
   "metadata": {
    "colab": {
     "base_uri": "https://localhost:8080/"
    },
    "executionInfo": {
     "elapsed": 261,
     "status": "ok",
     "timestamp": 1714827127055,
     "user": {
      "displayName": "RAPHAEL ABENOM DOS SANTOS SILVA",
      "userId": "08522055848715752754"
     },
     "user_tz": 180
    },
    "id": "F8iAXZ4Hp68W",
    "outputId": "d948dc1f-e14c-4464-ebfd-e37b54ab6b90"
   },
   "outputs": [],
   "source": [
    "# Lista de dicionários\n",
    "\n",
    "lista = []\n",
    "\n",
    "lista.append(cliente_copy)\n",
    "\n",
    "cliente2 = {\n",
    "    \"Nome\":'Beltrana',\n",
    "    \"Endereço\":'Rua das Rosas',\n",
    "    \"Contato\":'(62) 9 9999-9999'\n",
    "}\n",
    "\n",
    "lista.append(cliente2)\n",
    "\n",
    "for i, y in cliente2.items():\n",
    "    print(i, y)"
   ]
  },
  {
   "cell_type": "code",
   "execution_count": null,
   "metadata": {
    "colab": {
     "base_uri": "https://localhost:8080/"
    },
    "executionInfo": {
     "elapsed": 252,
     "status": "ok",
     "timestamp": 1714827461254,
     "user": {
      "displayName": "RAPHAEL ABENOM DOS SANTOS SILVA",
      "userId": "08522055848715752754"
     },
     "user_tz": 180
    },
    "id": "JIhHt86OqXQ2",
    "outputId": "1fdde1fe-48d2-4f1b-d1b5-9277f1a17ade"
   },
   "outputs": [],
   "source": [
    "# Dicionário de Listas\n",
    "from random import randint\n",
    "\n",
    "dictonary = {\n",
    "    'Nome':[],\n",
    "    'Endereço':[],\n",
    "    'Idade':[],\n",
    "}\n",
    "numeroRandomico = randint(9,50)\n",
    "\n",
    "dictonary['Nome'].append('Fulana')\n",
    "dictonary['Endereço'].append('Rua das Pedras')\n",
    "dictonary['Idade'].append(numeroRandomico)\n",
    "\n",
    "dictonary['Nome'].append('Zezinho')\n",
    "dictonary['Endereço'].append('Rua das águias')\n",
    "dictonary['Idade'].append(numeroRandomico)\n",
    "\n",
    "print(dictonary['Nome'][1])\n",
    "print(dictonary['Endereço'][1])\n",
    "print(dictonary['Idade'][1])\n",
    "\n",
    "print(\"\\n\")\n",
    "\n",
    "print(dictonary['Nome'][0])\n",
    "print(dictonary['Endereço'][0])\n",
    "print(dictonary['Idade'][0])"
   ]
  },
  {
   "cell_type": "code",
   "execution_count": null,
   "metadata": {
    "colab": {
     "base_uri": "https://localhost:8080/"
    },
    "executionInfo": {
     "elapsed": 265,
     "status": "ok",
     "timestamp": 1714827976752,
     "user": {
      "displayName": "RAPHAEL ABENOM DOS SANTOS SILVA",
      "userId": "08522055848715752754"
     },
     "user_tz": 180
    },
    "id": "suo3r4QPsW5-",
    "outputId": "fcf8eff3-c068-4680-cabc-c66f672c1c63"
   },
   "outputs": [],
   "source": [
    "numeros = [1,1,2,2,3,3,4,5,5,6,7,7,7]\n",
    "distintos = set(numeros)\n",
    "\n",
    "print(f'Números da lista {numeros} e os números distintos da lista são {distintos}')\n",
    "\n",
    "print('\\n')\n",
    "\n",
    "numeros_distintos = set()\n",
    "\n",
    "for num in numeros:\n",
    "    numeros_distintos.add(num)\n",
    "\n",
    "print(\"Números: \", numeros)\n",
    "print(\"Números distintos: \", numeros_distintos)\n",
    "\n",
    "# REMOVER UM ELEMENTO DA LISTA\n",
    "\n",
    "numeros_distintos.remove(3)\n",
    "print(\"Números com um número removido: \", numeros_distintos)"
   ]
  },
  {
   "cell_type": "code",
   "execution_count": null,
   "metadata": {
    "colab": {
     "base_uri": "https://localhost:8080/"
    },
    "executionInfo": {
     "elapsed": 273,
     "status": "ok",
     "timestamp": 1714828266698,
     "user": {
      "displayName": "RAPHAEL ABENOM DOS SANTOS SILVA",
      "userId": "08522055848715752754"
     },
     "user_tz": 180
    },
    "id": "FiON9C1utr1b",
    "outputId": "cf0d3ce7-9a0f-48f7-faef-85e041cb5d55"
   },
   "outputs": [],
   "source": [
    "# Transformar para um conjunto, para remover elementos repetidos e transformar para lista\n",
    "\n",
    "listaTransformar = [48,23,2,2,2,3,4,2,3,3,4,4,5,6,6]\n",
    "conjunto = set(listaTransformar) # conjunto\n",
    "lista = list(conjunto) # lista\n",
    "print(lista)\n",
    "print(type(lista))"
   ]
  },
  {
   "cell_type": "code",
   "execution_count": null,
   "metadata": {
    "colab": {
     "base_uri": "https://localhost:8080/"
    },
    "executionInfo": {
     "elapsed": 245,
     "status": "ok",
     "timestamp": 1714828298954,
     "user": {
      "displayName": "RAPHAEL ABENOM DOS SANTOS SILVA",
      "userId": "08522055848715752754"
     },
     "user_tz": 180
    },
    "id": "RzS3zn2buFf1",
    "outputId": "9395ad6d-21f2-485a-c105-b5c7ac95d9e5"
   },
   "outputs": [],
   "source": [
    "# Ordenação inversa\n",
    "print(sorted(lista))\n",
    "sorted(lista, reverse=True)"
   ]
  },
  {
   "cell_type": "code",
   "execution_count": null,
   "metadata": {
    "colab": {
     "base_uri": "https://localhost:8080/"
    },
    "executionInfo": {
     "elapsed": 255,
     "status": "ok",
     "timestamp": 1714828284840,
     "user": {
      "displayName": "RAPHAEL ABENOM DOS SANTOS SILVA",
      "userId": "08522055848715752754"
     },
     "user_tz": 180
    },
    "id": "o6_HkQ4uugDb",
    "outputId": "ab6425e5-f761-452b-f09e-fc4548028b36"
   },
   "outputs": [],
   "source": [
    "a = [48,23,2,2,2,3,4,2,3,3,4,4,5,6,6]\n",
    "a.sort()\n",
    "a"
   ]
  },
  {
   "cell_type": "code",
   "execution_count": null,
   "metadata": {
    "colab": {
     "base_uri": "https://localhost:8080/"
    },
    "executionInfo": {
     "elapsed": 268,
     "status": "ok",
     "timestamp": 1714828377733,
     "user": {
      "displayName": "RAPHAEL ABENOM DOS SANTOS SILVA",
      "userId": "08522055848715752754"
     },
     "user_tz": 180
    },
    "id": "6V2BSVeRu7tH",
    "outputId": "2200a9b3-31f3-4e38-ac7e-f88b4b3acce9"
   },
   "outputs": [],
   "source": [
    "# list.sort() somente para listas\n",
    "# Sorted() qualquer iteravel\n",
    "\n",
    "sorted({1: 'D',2:'B',3:'A',4:'C'})"
   ]
  },
  {
   "cell_type": "code",
   "execution_count": null,
   "metadata": {
    "colab": {
     "base_uri": "https://localhost:8080/"
    },
    "executionInfo": {
     "elapsed": 258,
     "status": "ok",
     "timestamp": 1714827639461,
     "user": {
      "displayName": "RAPHAEL ABENOM DOS SANTOS SILVA",
      "userId": "08522055848715752754"
     },
     "user_tz": 180
    },
    "id": "WyqEonYXrpNO",
    "outputId": "999a0465-8a03-4f50-aaae-425c98805c81"
   },
   "outputs": [],
   "source": [
    "from random import randrange\n",
    "faixa = list(range(10, 21))\n",
    "print(faixa)"
   ]
  },
  {
   "cell_type": "markdown",
   "metadata": {
    "id": "kFwU4gueyWsS"
   },
   "source": [
    "## Numpy"
   ]
  },
  {
   "cell_type": "code",
   "execution_count": null,
   "metadata": {
    "colab": {
     "base_uri": "https://localhost:8080/"
    },
    "executionInfo": {
     "elapsed": 6684,
     "status": "ok",
     "timestamp": 1714828477001,
     "user": {
      "displayName": "RAPHAEL ABENOM DOS SANTOS SILVA",
      "userId": "08522055848715752754"
     },
     "user_tz": 180
    },
    "id": "yPDHRvH-vT3A",
    "outputId": "5cc15bad-53f1-479c-ee58-9913ee1d2dd2"
   },
   "outputs": [],
   "source": [
    "# NUMPY\n",
    "%pip install numpy"
   ]
  },
  {
   "cell_type": "code",
   "execution_count": null,
   "metadata": {
    "colab": {
     "base_uri": "https://localhost:8080/"
    },
    "executionInfo": {
     "elapsed": 10,
     "status": "ok",
     "timestamp": 1714828477001,
     "user": {
      "displayName": "RAPHAEL ABENOM DOS SANTOS SILVA",
      "userId": "08522055848715752754"
     },
     "user_tz": 180
    },
    "id": "kDqfxbCyvdgr",
    "outputId": "6478e650-aef4-4e9e-963a-3e309d34b55f"
   },
   "outputs": [],
   "source": [
    "import numpy as np\n",
    "print(f'A versão instalada do numpy é a {np.__version__}')"
   ]
  },
  {
   "cell_type": "code",
   "execution_count": null,
   "metadata": {
    "colab": {
     "base_uri": "https://localhost:8080/"
    },
    "executionInfo": {
     "elapsed": 10,
     "status": "ok",
     "timestamp": 1714828545033,
     "user": {
      "displayName": "RAPHAEL ABENOM DOS SANTOS SILVA",
      "userId": "08522055848715752754"
     },
     "user_tz": 180
    },
    "id": "NWprxV3svf_g",
    "outputId": "ee405bf5-8fea-488a-a7a2-2042cd803fc7"
   },
   "outputs": [],
   "source": [
    "vector = [0,8,2,3,4,5,2,23,5,33]\n",
    "vector = np.array(vector)\n",
    "print(vector)\n",
    "print(type(vector))"
   ]
  },
  {
   "cell_type": "code",
   "execution_count": null,
   "metadata": {
    "colab": {
     "base_uri": "https://localhost:8080/"
    },
    "executionInfo": {
     "elapsed": 295,
     "status": "ok",
     "timestamp": 1714828583834,
     "user": {
      "displayName": "RAPHAEL ABENOM DOS SANTOS SILVA",
      "userId": "08522055848715752754"
     },
     "user_tz": 180
    },
    "id": "LLaXEvDFvxhL",
    "outputId": "2dede1ed-7779-41e8-b36f-7461eac3f2ed"
   },
   "outputs": [],
   "source": [
    "print(vector.mean())\n",
    "print(vector.max())\n",
    "print(vector.min())"
   ]
  },
  {
   "cell_type": "code",
   "execution_count": null,
   "metadata": {
    "colab": {
     "base_uri": "https://localhost:8080/"
    },
    "executionInfo": {
     "elapsed": 314,
     "status": "ok",
     "timestamp": 1714828660568,
     "user": {
      "displayName": "RAPHAEL ABENOM DOS SANTOS SILVA",
      "userId": "08522055848715752754"
     },
     "user_tz": 180
    },
    "id": "SlrivMzYv6rc",
    "outputId": "a8763bca-dbb4-4080-8ff5-78699de1103a"
   },
   "outputs": [],
   "source": [
    "primeiro=vector[0]\n",
    "segundo=vector[1]\n",
    "terceiro=vector[2]\n",
    "\n",
    "print(primeiro)\n",
    "print(segundo)\n",
    "print(terceiro)"
   ]
  },
  {
   "cell_type": "code",
   "execution_count": null,
   "metadata": {
    "colab": {
     "base_uri": "https://localhost:8080/"
    },
    "executionInfo": {
     "elapsed": 10,
     "status": "ok",
     "timestamp": 1714828789444,
     "user": {
      "displayName": "RAPHAEL ABENOM DOS SANTOS SILVA",
      "userId": "08522055848715752754"
     },
     "user_tz": 180
    },
    "id": "86jU8QHWwNqV",
    "outputId": "33c88ce2-4ccf-4f98-859f-1d2e19670cc1"
   },
   "outputs": [],
   "source": [
    "# Matriz\n",
    "\n",
    "vector1=np.array([3,2,1])\n",
    "vector2=np.array([3,2,1])\n",
    "\n",
    "print(vector1+vector2)\n",
    "print(vector1*vector2)\n",
    "print(np.concatenate((vector1,vector2)))"
   ]
  },
  {
   "cell_type": "code",
   "execution_count": null,
   "metadata": {
    "colab": {
     "base_uri": "https://localhost:8080/"
    },
    "executionInfo": {
     "elapsed": 4,
     "status": "ok",
     "timestamp": 1714828805660,
     "user": {
      "displayName": "RAPHAEL ABENOM DOS SANTOS SILVA",
      "userId": "08522055848715752754"
     },
     "user_tz": 180
    },
    "id": "OrwJgL4uwtdq",
    "outputId": "100a912e-f0e0-4ccc-fa91-a83fac706521"
   },
   "outputs": [],
   "source": [
    "for v in vector1:\n",
    "    print(v)"
   ]
  },
  {
   "cell_type": "code",
   "execution_count": null,
   "metadata": {
    "colab": {
     "base_uri": "https://localhost:8080/"
    },
    "executionInfo": {
     "elapsed": 11,
     "status": "ok",
     "timestamp": 1714828875170,
     "user": {
      "displayName": "RAPHAEL ABENOM DOS SANTOS SILVA",
      "userId": "08522055848715752754"
     },
     "user_tz": 180
    },
    "id": "oauSPqwmwwvY",
    "outputId": "38ca6dbd-cfdd-491e-f35d-4ec2b0f3b492"
   },
   "outputs": [],
   "source": [
    "vectorExample=np.array([3,2,1,5,6,9,9])\n",
    "matriz_ordenada= np.sort(vectorExample)\n",
    "\n",
    "print(\"Matriz não ordenada: \", vectorExample)\n",
    "print(\"Matriz ordenada: \", matriz_ordenada)"
   ]
  },
  {
   "cell_type": "code",
   "execution_count": null,
   "metadata": {
    "colab": {
     "base_uri": "https://localhost:8080/"
    },
    "executionInfo": {
     "elapsed": 14,
     "status": "ok",
     "timestamp": 1714828900173,
     "user": {
      "displayName": "RAPHAEL ABENOM DOS SANTOS SILVA",
      "userId": "08522055848715752754"
     },
     "user_tz": 180
    },
    "id": "PSkUokHwxBsv",
    "outputId": "4f6bde7c-1106-4ad2-b58a-5ea31c3ef79f"
   },
   "outputs": [],
   "source": [
    "print(list(vectorExample))"
   ]
  },
  {
   "cell_type": "code",
   "execution_count": null,
   "metadata": {
    "id": "5306Y5tUxJJ-"
   },
   "outputs": [],
   "source": [
    "M1 = np.array([[1,2],[3,4]])\n",
    "M2 = np.array([[1,2],[3,4]])"
   ]
  },
  {
   "cell_type": "code",
   "execution_count": null,
   "metadata": {
    "colab": {
     "base_uri": "https://localhost:8080/"
    },
    "executionInfo": {
     "elapsed": 255,
     "status": "ok",
     "timestamp": 1714828994227,
     "user": {
      "displayName": "RAPHAEL ABENOM DOS SANTOS SILVA",
      "userId": "08522055848715752754"
     },
     "user_tz": 180
    },
    "id": "8mnVghr-xPtF",
    "outputId": "b6249c90-266e-49b9-a5b1-3b39c06c24c4"
   },
   "outputs": [],
   "source": [
    "print(f'M1: \\n {M1}')\n",
    "print(f'M1: \\n {M2}')"
   ]
  },
  {
   "cell_type": "code",
   "execution_count": null,
   "metadata": {
    "colab": {
     "base_uri": "https://localhost:8080/"
    },
    "executionInfo": {
     "elapsed": 11,
     "status": "ok",
     "timestamp": 1714829092944,
     "user": {
      "displayName": "RAPHAEL ABENOM DOS SANTOS SILVA",
      "userId": "08522055848715752754"
     },
     "user_tz": 180
    },
    "id": "LGhZEpjUxXV2",
    "outputId": "85b623d4-2487-4497-fcde-cb869dd7e516"
   },
   "outputs": [],
   "source": [
    "print(f'produto: \\n {M1 @ M2}')\n",
    "print(f'soma: \\n {M1 + M2}')\n",
    "print(f'subtração: \\n {M1 - M2}')\n",
    "print(f'divisão: \\n {M1 / M2}')\n",
    "print(f'multiplicação: \\n {M1 * M2}')"
   ]
  },
  {
   "cell_type": "markdown",
   "metadata": {
    "id": "6ZxGFGkMyFMQ"
   },
   "source": [
    "## Acesso e manipulação de arquivos Colab + Python"
   ]
  },
  {
   "cell_type": "code",
   "execution_count": null,
   "metadata": {
    "id": "oeDbUYDGyNxI"
   },
   "outputs": [],
   "source": [
    "import os\n",
    "\n",
    "path = 'data/01.txt'\n",
    "\n",
    "with open(path, 'w') as txt:\n",
    "    txt.write('Teste: ')\n",
    "    txt.writelines(['A ', 'B', ' C'])"
   ]
  },
  {
   "cell_type": "code",
   "execution_count": null,
   "metadata": {
    "id": "GzV5rbpfyPtY"
   },
   "outputs": [],
   "source": [
    "with open(path, 'a') as txt:\n",
    "    txt.write('\\nNovoTeste: ')\n",
    "    txt.writelines(['D', 'E', 'F', 'G'])"
   ]
  },
  {
   "cell_type": "code",
   "execution_count": null,
   "metadata": {
    "colab": {
     "base_uri": "https://localhost:8080/"
    },
    "executionInfo": {
     "elapsed": 8,
     "status": "ok",
     "timestamp": 1714829247431,
     "user": {
      "displayName": "RAPHAEL ABENOM DOS SANTOS SILVA",
      "userId": "08522055848715752754"
     },
     "user_tz": 180
    },
    "id": "akVcD_R2ySEu",
    "outputId": "a3dee4bc-07ef-46b9-fa86-9b5c034637f0"
   },
   "outputs": [],
   "source": [
    "with open(path, 'r') as txt:\n",
    "    s = txt.read()\n",
    "print(s)"
   ]
  },
  {
   "cell_type": "markdown",
   "metadata": {
    "id": "PKNd0ldRzyMG"
   },
   "source": [
    "# Exercícios 02 - Avaliativo"
   ]
  },
  {
   "cell_type": "markdown",
   "metadata": {
    "id": "ujlXUzyX0xkg"
   },
   "source": [
    "1. Escreva um programa que leia um arquivo [TEXTO] e retire os sinas de pontuação [. , ; ( ) - ! ? ] e os espaços adicionais. Selecione somente as palavras que  começam com a letra \"a\" e imprima-as em ordem alfabética sem repetições."
   ]
  },
  {
   "cell_type": "code",
   "execution_count": null,
   "metadata": {},
   "outputs": [],
   "source": [
    "# import os \n",
    "\n",
    "# arquivos = os.listdir('data')\n",
    "# print(arquivos)"
   ]
  },
  {
   "cell_type": "code",
   "execution_count": null,
   "metadata": {
    "id": "V5nXyMnp10RF"
   },
   "outputs": [],
   "source": [
    "import re\n",
    "\n",
    "def carregar(path: str):\n",
    "    with open(path, 'r') as texto:\n",
    "        lerTexto = texto.read()\n",
    "    return lerTexto\n",
    "\n",
    "def transformar(texto: str) -> list:\n",
    "    texto_sem_simbolos = re.sub(r'[,\\!?:!;\\-/.\"]', '', texto)\n",
    "    texto_minusculo = texto_sem_simbolos.lower()\n",
    "    lista_palavras = texto_minusculo.split()\n",
    "    return lista_palavras\n",
    "\n",
    "def selecionarOrdenar(lista_palavras: list):\n",
    "\n",
    "    listaDistinta = set()\n",
    "\n",
    "    for palavra in lista_palavras:\n",
    "        if palavra.startswith(\"a\"):\n",
    "            listaDistinta.add(palavra)\n",
    "            \n",
    "    ordemAlfabetica = sorted(listaDistinta)\n",
    "    \n",
    "    for palavra in ordemAlfabetica:\n",
    "        print(palavra)\n",
    "\n",
    "# Carregar\n",
    "texto = carregar('data/0.txt')\n",
    "# Transformar \n",
    "lista_palavras = transformar(texto)\n",
    "# Imprimir palavras distintas que começam com 'a' e ordenar em ordem alfabética\n",
    "selecionarOrdenar(lista_palavras)"
   ]
  },
  {
   "cell_type": "markdown",
   "metadata": {
    "id": "cpu0id7y147k"
   },
   "source": [
    "1. Escreva um programa que leia 3 arquivos [TEXTO] cada um numerado de 0 à 2 (0.txt, 1.txt, 2.txt). O programa deve carregar os arquivos em 3 dicionários com duas chaves: o \"ID\" do arquivo (0,1,2) e a chave do conteúdo que é uma lista contendo o texto do arquivo limpo (sem sinais de pontuaçã e espaços adicionais).\n",
    "2. Então, uma nova lista deve conter o vocabulário com os termos sem repetição dos 3 textos nos dicionários (sem pontuações). Finalmente, o sistema deve criar um dicionário para cada \"termo do vocabulario\" e uma lista onde cada índice representa um arquivo contendo a frequência do termo do arquivo."
   ]
  },
  {
   "cell_type": "code",
   "execution_count": 1,
   "metadata": {},
   "outputs": [
    {
     "name": "stdout",
     "output_type": "stream",
     "text": [
      "11032: [{'2': 0}, {'1': 0}, {'0': 2}]\n",
      "11033: [{'2': 0}, {'1': 0}, {'0': 1}]\n",
      "2000: [{'2': 0}, {'1': 0}, {'0': 1}]\n",
      "45: [{'2': 0}, {'1': 0}, {'0': 2}]\n",
      "a: [{'2': 1}, {'1': 3}, {'0': 5}]\n",
      "agronegócio: [{'2': 0}, {'1': 1}, {'0': 0}]\n",
      "amet: [{'2': 0}, {'1': 0}, {'0': 1}]\n",
      "analisar: [{'2': 0}, {'1': 1}, {'0': 0}]\n",
      "and: [{'2': 0}, {'1': 0}, {'0': 3}]\n",
      "aprender: [{'2': 1}, {'1': 0}, {'0': 0}]\n",
      "artificial: [{'2': 1}, {'1': 0}, {'0': 0}]\n",
      "as: [{'2': 0}, {'1': 1}, {'0': 0}]\n",
      "at: [{'2': 0}, {'1': 0}, {'0': 1}]\n",
      "até: [{'2': 1}, {'1': 1}, {'0': 0}]\n",
      "autônoma: [{'2': 1}, {'1': 0}, {'0': 0}]\n",
      "bc: [{'2': 0}, {'1': 0}, {'0': 2}]\n",
      "belief: [{'2': 0}, {'1': 0}, {'0': 1}]\n",
      "bonorum: [{'2': 0}, {'1': 0}, {'0': 1}]\n",
      "book: [{'2': 0}, {'1': 0}, {'0': 1}]\n",
      "by: [{'2': 0}, {'1': 0}, {'0': 1}]\n",
      "cadeia: [{'2': 0}, {'1': 1}, {'0': 0}]\n",
      "campo: [{'2': 1}, {'1': 0}, {'0': 0}]\n",
      "capazes: [{'2': 1}, {'1': 0}, {'0': 0}]\n",
      "cena: [{'2': 0}, {'1': 1}, {'0': 0}]\n",
      "cicero: [{'2': 0}, {'1': 0}, {'0': 1}]\n",
      "cites: [{'2': 0}, {'1': 0}, {'0': 1}]\n",
      "ciência: [{'2': 1}, {'1': 0}, {'0': 0}]\n",
      "classical: [{'2': 0}, {'1': 0}, {'0': 2}]\n",
      "climáticas: [{'2': 0}, {'1': 1}, {'0': 0}]\n",
      "college: [{'2': 0}, {'1': 0}, {'0': 1}]\n",
      "combina: [{'2': 1}, {'1': 0}, {'0': 0}]\n",
      "comes: [{'2': 0}, {'1': 0}, {'0': 2}]\n",
      "computação: [{'2': 1}, {'1': 0}, {'0': 0}]\n",
      "condições: [{'2': 0}, {'1': 1}, {'0': 0}]\n",
      "consectetur: [{'2': 0}, {'1': 0}, {'0': 1}]\n",
      "contrary: [{'2': 0}, {'1': 0}, {'0': 1}]\n",
      "criar: [{'2': 1}, {'1': 0}, {'0': 0}]\n",
      "da: [{'2': 1}, {'1': 1}, {'0': 0}]\n",
      "dados: [{'2': 0}, {'1': 4}, {'0': 0}]\n",
      "data: [{'2': 0}, {'1': 1}, {'0': 0}]\n",
      "de: [{'2': 2}, {'1': 4}, {'0': 1}]\n",
      "decisões: [{'2': 1}, {'1': 1}, {'0': 0}]\n",
      "desde: [{'2': 0}, {'1': 1}, {'0': 0}]\n",
      "diariamente: [{'2': 1}, {'1': 0}, {'0': 0}]\n",
      "discovered: [{'2': 0}, {'1': 0}, {'0': 1}]\n",
      "do: [{'2': 1}, {'1': 2}, {'0': 0}]\n",
      "dolor: [{'2': 0}, {'1': 0}, {'0': 1}]\n",
      "during: [{'2': 0}, {'1': 0}, {'0': 1}]\n",
      "e: [{'2': 3}, {'1': 2}, {'0': 0}]\n",
      "em: [{'2': 0}, {'1': 2}, {'0': 0}]\n",
      "engenharia: [{'2': 1}, {'1': 0}, {'0': 0}]\n",
      "entra: [{'2': 0}, {'1': 1}, {'0': 0}]\n",
      "esses: [{'2': 0}, {'1': 1}, {'0': 0}]\n",
      "et: [{'2': 0}, {'1': 0}, {'0': 1}]\n",
      "etapas: [{'2': 0}, {'1': 1}, {'0': 0}]\n",
      "ethics: [{'2': 0}, {'1': 0}, {'0': 1}]\n",
      "evil: [{'2': 0}, {'1': 0}, {'0': 1}]\n",
      "expandindo: [{'2': 1}, {'1': 0}, {'0': 0}]\n",
      "extremes: [{'2': 0}, {'1': 0}, {'0': 1}]\n",
      "finibus: [{'2': 0}, {'1': 0}, {'0': 1}]\n",
      "first: [{'2': 0}, {'1': 0}, {'0': 1}]\n",
      "forma: [{'2': 1}, {'1': 1}, {'0': 0}]\n",
      "from: [{'2': 0}, {'1': 0}, {'0': 4}]\n",
      "gerados: [{'2': 0}, {'1': 1}, {'0': 0}]\n",
      "going: [{'2': 0}, {'1': 0}, {'0': 1}]\n",
      "good: [{'2': 0}, {'1': 0}, {'0': 1}]\n",
      "hampdensydney: [{'2': 0}, {'1': 0}, {'0': 1}]\n",
      "has: [{'2': 0}, {'1': 0}, {'0': 1}]\n",
      "ia: [{'2': 1}, {'1': 0}, {'0': 0}]\n",
      "imensa: [{'2': 0}, {'1': 1}, {'0': 0}]\n",
      "in: [{'2': 0}, {'1': 0}, {'0': 5}]\n",
      "indústrias: [{'2': 1}, {'1': 0}, {'0': 0}]\n",
      "informações: [{'2': 0}, {'1': 1}, {'0': 0}]\n",
      "insights: [{'2': 0}, {'1': 1}, {'0': 0}]\n",
      "inteligente: [{'2': 0}, {'1': 1}, {'0': 0}]\n",
      "inteligência: [{'2': 1}, {'1': 0}, {'0': 0}]\n",
      "ipsum: [{'2': 0}, {'1': 0}, {'0': 5}]\n",
      "is: [{'2': 0}, {'1': 0}, {'0': 2}]\n",
      "it: [{'2': 0}, {'1': 0}, {'0': 2}]\n",
      "latin: [{'2': 0}, {'1': 0}, {'0': 3}]\n",
      "limites: [{'2': 1}, {'1': 0}, {'0': 0}]\n",
      "line: [{'2': 0}, {'1': 0}, {'0': 2}]\n",
      "literature: [{'2': 0}, {'1': 0}, {'0': 2}]\n",
      "looked: [{'2': 0}, {'1': 0}, {'0': 1}]\n",
      "lorem: [{'2': 0}, {'1': 0}, {'0': 5}]\n",
      "making: [{'2': 0}, {'1': 0}, {'0': 1}]\n",
      "malorum: [{'2': 0}, {'1': 0}, {'0': 1}]\n",
      "matemática: [{'2': 1}, {'1': 0}, {'0': 0}]\n",
      "mcclintock: [{'2': 0}, {'1': 0}, {'0': 1}]\n",
      "melhorar: [{'2': 0}, {'1': 1}, {'0': 0}]\n",
      "mesmo: [{'2': 1}, {'1': 0}, {'0': 0}]\n",
      "moldando: [{'2': 1}, {'1': 0}, {'0': 0}]\n",
      "more: [{'2': 0}, {'1': 0}, {'0': 1}]\n",
      "multidisciplinar: [{'2': 1}, {'1': 0}, {'0': 0}]\n",
      "mundo: [{'2': 1}, {'1': 0}, {'0': 0}]\n",
      "no: [{'2': 0}, {'1': 1}, {'0': 0}]\n",
      "nosso: [{'2': 1}, {'1': 0}, {'0': 0}]\n",
      "not: [{'2': 0}, {'1': 0}, {'0': 1}]\n",
      "obscure: [{'2': 0}, {'1': 0}, {'0': 1}]\n",
      "of: [{'2': 0}, {'1': 0}, {'0': 7}]\n",
      "old: [{'2': 0}, {'1': 0}, {'0': 1}]\n",
      "on: [{'2': 0}, {'1': 0}, {'0': 1}]\n",
      "one: [{'2': 0}, {'1': 0}, {'0': 1}]\n",
      "os: [{'2': 1}, {'1': 0}, {'0': 0}]\n",
      "otimizando: [{'2': 1}, {'1': 0}, {'0': 0}]\n",
      "over: [{'2': 0}, {'1': 0}, {'0': 1}]\n",
      "para: [{'2': 1}, {'1': 1}, {'0': 0}]\n",
      "passage: [{'2': 0}, {'1': 0}, {'0': 1}]\n",
      "piece: [{'2': 0}, {'1': 0}, {'0': 1}]\n",
      "podem: [{'2': 0}, {'1': 1}, {'0': 0}]\n",
      "popular: [{'2': 0}, {'1': 0}, {'0': 2}]\n",
      "possível: [{'2': 1}, {'1': 0}, {'0': 0}]\n",
      "processos: [{'2': 1}, {'1': 0}, {'0': 0}]\n",
      "produtiva: [{'2': 0}, {'1': 1}, {'0': 0}]\n",
      "produção: [{'2': 0}, {'1': 1}, {'0': 0}]\n",
      "professor: [{'2': 0}, {'1': 0}, {'0': 1}]\n",
      "psicologia: [{'2': 1}, {'1': 0}, {'0': 0}]\n",
      "quantidade: [{'2': 0}, {'1': 1}, {'0': 0}]\n",
      "que: [{'2': 2}, {'1': 1}, {'0': 0}]\n",
      "raciocinar: [{'2': 1}, {'1': 0}, {'0': 0}]\n",
      "random: [{'2': 0}, {'1': 0}, {'0': 1}]\n",
      "renaissance: [{'2': 0}, {'1': 0}, {'0': 1}]\n",
      "revelando: [{'2': 0}, {'1': 1}, {'0': 0}]\n",
      "revoluciona: [{'2': 1}, {'1': 0}, {'0': 0}]\n",
      "richard: [{'2': 0}, {'1': 0}, {'0': 1}]\n",
      "roots: [{'2': 0}, {'1': 0}, {'0': 1}]\n",
      "science: [{'2': 0}, {'1': 1}, {'0': 0}]\n",
      "section: [{'2': 0}, {'1': 0}, {'0': 1}]\n",
      "sections: [{'2': 0}, {'1': 0}, {'0': 1}]\n",
      "simply: [{'2': 0}, {'1': 0}, {'0': 1}]\n",
      "sistemas: [{'2': 1}, {'1': 0}, {'0': 0}]\n",
      "sit: [{'2': 0}, {'1': 0}, {'0': 1}]\n",
      "sobre: [{'2': 0}, {'1': 1}, {'0': 0}]\n",
      "solo: [{'2': 0}, {'1': 1}, {'0': 0}]\n",
      "source: [{'2': 0}, {'1': 0}, {'0': 1}]\n",
      "text: [{'2': 0}, {'1': 0}, {'0': 1}]\n",
      "the: [{'2': 0}, {'1': 0}, {'0': 8}]\n",
      "theory: [{'2': 0}, {'1': 0}, {'0': 1}]\n",
      "this: [{'2': 0}, {'1': 0}, {'0': 1}]\n",
      "through: [{'2': 0}, {'1': 0}, {'0': 1}]\n",
      "to: [{'2': 0}, {'1': 0}, {'0': 1}]\n",
      "todas: [{'2': 0}, {'1': 1}, {'0': 0}]\n",
      "tomada: [{'2': 0}, {'1': 1}, {'0': 0}]\n",
      "tomar: [{'2': 1}, {'1': 0}, {'0': 0}]\n",
      "treatise: [{'2': 0}, {'1': 0}, {'0': 1}]\n",
      "um: [{'2': 1}, {'1': 0}, {'0': 0}]\n",
      "undoubtable: [{'2': 0}, {'1': 0}, {'0': 1}]\n",
      "up: [{'2': 0}, {'1': 0}, {'0': 1}]\n",
      "valiosos: [{'2': 0}, {'1': 1}, {'0': 0}]\n",
      "vendas: [{'2': 0}, {'1': 1}, {'0': 0}]\n",
      "very: [{'2': 0}, {'1': 0}, {'0': 1}]\n",
      "virginia: [{'2': 0}, {'1': 0}, {'0': 1}]\n",
      "word: [{'2': 0}, {'1': 0}, {'0': 1}]\n",
      "words: [{'2': 0}, {'1': 0}, {'0': 1}]\n",
      "written: [{'2': 0}, {'1': 0}, {'0': 1}]\n",
      "years: [{'2': 0}, {'1': 0}, {'0': 1}]\n",
      "âmbito: [{'2': 0}, {'1': 1}, {'0': 0}]\n",
      "é: [{'2': 2}, {'1': 1}, {'0': 0}]\n"
     ]
    }
   ],
   "source": [
    "import re\n",
    "import os\n",
    "\n",
    "def carregarArquivos(caminho: str) -> str:\n",
    "    if os.path.exists(caminho): \n",
    "        with open(caminho, 'r') as txt:\n",
    "            return txt.read()\n",
    "    else:\n",
    "        print(f\"O caminho {caminho} não existe.\")\n",
    "        return None\n",
    "\n",
    "def transformar(texto: str) -> list:\n",
    "    texto_sem_simbolos = re.sub(r'[,\\!?:;\\-/.()\"]', '', texto)\n",
    "    texto_minusculo = texto_sem_simbolos.lower()\n",
    "    lista_palavras = texto_minusculo.split()\n",
    "    return lista_palavras\n",
    "\n",
    "def ingestao() -> None:\n",
    "    \n",
    "    arquivos = [file for file in os.listdir(\"data\") if file.endswith(\".txt\")]\n",
    "    \n",
    "    dicionarios = {}\n",
    "    \n",
    "    for arquivo in arquivos:\n",
    "        path = os.path.join(\"data\", arquivo)\n",
    "        texto = carregarArquivos(path)\n",
    "        conteudo_tratado = transformar(texto)\n",
    "        id_arquivo = arquivo.split('.')[0]\n",
    "        dicionarios[id_arquivo] = conteudo_tratado\n",
    "    return dicionarios\n",
    "\n",
    "def criarVocabulario(dicionarios: dict) -> list:\n",
    "    vocabulario = set()\n",
    "    for conteudo_tratado in dicionarios.values():\n",
    "        for palavra in conteudo_tratado:\n",
    "            vocabulario.add(palavra)\n",
    "\n",
    "    vocabulario = sorted(vocabulario)\n",
    "            \n",
    "    return list(vocabulario)\n",
    "\n",
    "def dicionarioFrequencia(dicionarios: dict) -> dict:\n",
    "    \n",
    "    vocabulario = criarVocabulario(dicionarios)\n",
    "    dicionario_de_frequencia = {}\n",
    "\n",
    "    for termo in vocabulario:\n",
    "        \n",
    "        frequencias = []\n",
    "        \n",
    "        for id_arquivo, conteudo_tratado in dicionarios.items():\n",
    "            frequencia = conteudo_tratado.count(termo)\n",
    "            frequencias.append({id_arquivo: frequencia})\n",
    "            \n",
    "        dicionario_de_frequencia[termo] = frequencias\n",
    "\n",
    "    return dicionario_de_frequencia\n",
    "\n",
    "# print(\"Vocabulário:\", vocabulario)\n",
    "# print(\"Frequências:\", frequencias)\n",
    "\n",
    "def main():\n",
    "    dicionarios = ingestao()\n",
    "    frequencias = dicionarioFrequencia(dicionarios)\n",
    "\n",
    "    for termo, frequencias in frequencias.items():\n",
    "        print(f\"{termo}: {frequencias}\")\n",
    "\n",
    "if __name__ == \"__main__\":\n",
    "    main()"
   ]
  },
  {
   "cell_type": "markdown",
   "metadata": {
    "id": "thIS-rpq0UsP"
   },
   "source": [
    "# Exercícios de Reforço (Optativo)\n"
   ]
  },
  {
   "cell_type": "markdown",
   "metadata": {
    "id": "NRYc3Hv10Z3n"
   },
   "source": [
    "1. Faça um programa que leia uma matriz quadrada (número de linhas e colunas é igual) formada por lista de listas e armazene a diagonal principal numa lista e a imprima. Caso a matriz não seja quadrada, emitir uma mensagem e parar o programa."
   ]
  },
  {
   "cell_type": "markdown",
   "metadata": {
    "id": "2jz6zf690db3"
   },
   "source": [
    "2. Faça um programa que receba duas listas de listas de inteiros como entradas (podem ser variáveis, não precisam ser lidas do teclado) como matrizes: neste caso, sendo cada lista interna de uma lista uma linha da matriz.\n",
    "Não precisa validar os tipos de dados de cada linha das matrizes, assuma que as matrizes são sempre com valores inteiros. O programa deve:\n",
    "\n",
    "- A) Verificar se as duas matrizes (lista de listas) são idênticas no número de linha e colunas (quadrada), se não forem uma mensagem deve ser emitida e o programa deve parar.\n",
    "- B) Após a verificação acima, faça duas funções: uma para somar e outra para subtrair as duas matrizes, a primeira será operada pela segunda matriz, elemento a elemento.\n",
    "Imprima as operações e o resultado para cada operação."
   ]
  },
  {
   "cell_type": "markdown",
   "metadata": {
    "id": "yvvTID_g0lK4"
   },
   "source": [
    "3. Construa uma função para multiplicar duas matrizes após uma função de validação: lembre-se que uma validação é necessária para multiplicação de duas matrizes AxB: \"é necessário que o número de colunas da primeira matriz, no caso A, seja igual ao número de linhas da segunda matriz, no caso B\". Imprima o produto das duas matrizes. Caso a validação falhe, imprima uma mensagem."
   ]
  }
 ],
 "metadata": {
  "colab": {
   "authorship_tag": "ABX9TyNXOB42jzubXHi1ITth0srH",
   "collapsed_sections": [
    "thIS-rpq0UsP"
   ],
   "provenance": []
  },
  "kernelspec": {
   "display_name": "Python 3 (ipykernel)",
   "language": "python",
   "name": "python3"
  },
  "language_info": {
   "codemirror_mode": {
    "name": "ipython",
    "version": 3
   },
   "file_extension": ".py",
   "mimetype": "text/x-python",
   "name": "python",
   "nbconvert_exporter": "python",
   "pygments_lexer": "ipython3",
   "version": "3.12.3"
  }
 },
 "nbformat": 4,
 "nbformat_minor": 4
}
